{
  "nbformat": 4,
  "nbformat_minor": 0,
  "metadata": {
    "colab": {
      "provenance": []
    },
    "kernelspec": {
      "name": "python3",
      "display_name": "Python 3"
    },
    "language_info": {
      "name": "python"
    }
  },
  "cells": [
    {
      "cell_type": "code",
      "source": [
        "import numpy as np\n",
        "\n",
        "A = np.array([[0, 1],\n",
        "              [2, 3],\n",
        "              [4, 5]])\n",
        "\n",
        "B = np.array([[0, 1, 2, 3],\n",
        "              [4, 5, 6, 7]])\n",
        "\n",
        "C = np.dot(A, B)\n",
        "\n",
        "print(\"行列の積 C:\")\n",
        "print(C)\n",
        "\n",
        "print(\"Cの要素の最大値:\", np.max(C))\n"
      ],
      "metadata": {
        "colab": {
          "base_uri": "https://localhost:8080/"
        },
        "id": "2AntxpkSPHrF",
        "outputId": "eed8cd16-3d8f-4001-f80e-6055c5cf4ca6"
      },
      "execution_count": 1,
      "outputs": [
        {
          "output_type": "stream",
          "name": "stdout",
          "text": [
            "行列の積 C:\n",
            "[[ 4  5  6  7]\n",
            " [12 17 22 27]\n",
            " [20 29 38 47]]\n",
            "Cの要素の最大値: 47\n"
          ]
        }
      ]
    },
    {
      "cell_type": "code",
      "source": [],
      "metadata": {
        "id": "uVAssDoYPdr1"
      },
      "execution_count": null,
      "outputs": []
    }
  ]
}