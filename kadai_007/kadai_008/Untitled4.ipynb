{
  "nbformat": 4,
  "nbformat_minor": 0,
  "metadata": {
    "colab": {
      "provenance": []
    },
    "kernelspec": {
      "name": "python3",
      "display_name": "Python 3"
    },
    "language_info": {
      "name": "python"
    }
  },
  "cells": [
    {
      "cell_type": "code",
      "source": [
        "# ライブラリのインポート\n",
        "from sklearn.datasets import load_wine\n",
        "from sklearn.model_selection import train_test_split\n",
        "from sklearn.tree import DecisionTreeClassifier\n",
        "from sklearn.metrics import accuracy_score\n",
        "import pandas as pd\n",
        "import numpy as np\n",
        "\n",
        "# 1. サンプルデータの取得\n",
        "dataset = load_wine()\n",
        "\n",
        "# DataFrameで見やすく表示\n",
        "df = pd.DataFrame(data=dataset.data, columns=dataset.feature_names)\n",
        "df['category'] = dataset.target\n",
        "print(\"データ数とカラム数:\", df.shape)\n",
        "print(df.head())\n",
        "\n",
        "# 2. サンプルデータの分割\n",
        "X = dataset.data  # 説明変数\n",
        "y = dataset.target  # 目的変数\n",
        "\n",
        "# データを7:3で分割\n",
        "X_train, X_test, y_train, y_test = train_test_split(X, y, test_size=0.3, random_state=5)\n",
        "\n",
        "print(\"X:\", X.shape, \"X_train:\", X_train.shape, \"X_test:\", X_test.shape)\n",
        "print(\"y:\", y.shape, \"y_train:\", y_train.shape, \"y_test:\", y_test.shape)\n",
        "\n",
        "# 3. モデルのインスタンス化（決定木）\n",
        "model = DecisionTreeClassifier(random_state=3)\n",
        "\n",
        "# 4. モデルの学習\n",
        "model.fit(X_train, y_train)\n",
        "\n",
        "# 5. モデルの評価\n",
        "y_pred = model.predict(X_test)\n",
        "print(\"予測結果:\", y_pred)\n",
        "print(\"正解ラベル:\", y_test)\n",
        "\n",
        "# 正解率の計算\n",
        "accuracy = accuracy_score(y_test, y_pred)\n",
        "print(\"正解率（accuracy_score）:\", accuracy)\n",
        "\n",
        "# scoreメソッドによる正解率\n",
        "print(\"正解率（scoreメソッド）:\", model.score(X_test, y_test))\n",
        "\n",
        "# 6. 予測（未知のワインデータ）\n",
        "X_real = np.array([\n",
        "    [13, 1.6, 2.2, 16, 118, 2.6, 2.9, 0.21, 1.6, 5.8, 0.92, 3.2, 1011],\n",
        "    [12, 2.8, 2.2, 18, 100, 2.5, 2.3, 0.25, 2.0, 2.2, 1.15, 3.3, 1000],\n",
        "    [14, 4.1, 2.7, 24, 101, 1.6, 0.7, 0.53, 1.4, 9.4, 0.61, 1.6, 560]\n",
        "])\n",
        "pred_real = model.predict(X_real)\n",
        "print(\"未知ワインの予測種別:\", pred_real)\n"
      ],
      "metadata": {
        "colab": {
          "base_uri": "https://localhost:8080/"
        },
        "id": "5xUzRMIEEXUc",
        "outputId": "4302bab9-fd7a-4b53-c16c-6b187fd8c325"
      },
      "execution_count": 1,
      "outputs": [
        {
          "output_type": "stream",
          "name": "stdout",
          "text": [
            "データ数とカラム数: (178, 14)\n",
            "   alcohol  malic_acid   ash  alcalinity_of_ash  magnesium  total_phenols  \\\n",
            "0    14.23        1.71  2.43               15.6      127.0           2.80   \n",
            "1    13.20        1.78  2.14               11.2      100.0           2.65   \n",
            "2    13.16        2.36  2.67               18.6      101.0           2.80   \n",
            "3    14.37        1.95  2.50               16.8      113.0           3.85   \n",
            "4    13.24        2.59  2.87               21.0      118.0           2.80   \n",
            "\n",
            "   flavanoids  nonflavanoid_phenols  proanthocyanins  color_intensity   hue  \\\n",
            "0        3.06                  0.28             2.29             5.64  1.04   \n",
            "1        2.76                  0.26             1.28             4.38  1.05   \n",
            "2        3.24                  0.30             2.81             5.68  1.03   \n",
            "3        3.49                  0.24             2.18             7.80  0.86   \n",
            "4        2.69                  0.39             1.82             4.32  1.04   \n",
            "\n",
            "   od280/od315_of_diluted_wines  proline  category  \n",
            "0                          3.92   1065.0         0  \n",
            "1                          3.40   1050.0         0  \n",
            "2                          3.17   1185.0         0  \n",
            "3                          3.45   1480.0         0  \n",
            "4                          2.93    735.0         0  \n",
            "X: (178, 13) X_train: (124, 13) X_test: (54, 13)\n",
            "y: (178,) y_train: (124,) y_test: (54,)\n",
            "予測結果: [0 1 0 0 2 2 0 0 1 1 0 0 2 1 2 0 1 1 1 0 0 0 1 1 1 1 0 2 2 0 1 1 0 0 2 2 0\n",
            " 2 2 0 1 2 2 0 2 1 0 2 0 1 0 1 1 0]\n",
            "正解ラベル: [0 1 0 0 2 2 0 0 1 0 0 0 2 1 2 0 1 0 1 0 0 0 1 1 1 1 0 2 2 0 1 1 0 0 2 2 0\n",
            " 2 2 1 1 1 2 0 2 1 0 2 0 1 0 1 1 0]\n",
            "正解率（accuracy_score）: 0.9259259259259259\n",
            "正解率（scoreメソッド）: 0.9259259259259259\n",
            "未知ワインの予測種別: [0 1 2]\n"
          ]
        }
      ]
    },
    {
      "cell_type": "code",
      "source": [
        "# 1. サンプルデータの取得\n",
        "from sklearn.datasets import load_wine\n",
        "dataset = load_wine()\n",
        "\n",
        "# PandasでDataFrameに変換\n",
        "import pandas as pd\n",
        "df = pd.DataFrame(data=dataset.data, columns=dataset.feature_names)\n",
        "\n",
        "# category列（ワインの種別）を追加\n",
        "df['category'] = dataset.target\n",
        "\n",
        "# データ数を確認\n",
        "df.shape\n",
        "\n",
        "# 2. サンプルデータの分割\n",
        "X = dataset.data\n",
        "y = dataset.target\n",
        "\n",
        "from sklearn.model_selection import train_test_split\n",
        "X_train, X_test, y_train, y_test = train_test_split(X, y, test_size=0.3, random_state=5)\n",
        "\n",
        "# レコード数確認\n",
        "print(X.shape, X_train.shape, X_test.shape, y.shape, y_train.shape, y_test.shape)\n",
        "\n",
        "# 3. ランダムフォレストの予測モデルのインスタンス化（ここが変更ポイント）\n",
        "from sklearn.ensemble import RandomForestClassifier\n",
        "model = RandomForestClassifier(random_state=3)\n",
        "\n",
        "# 4. 予測モデルの学習\n",
        "model.fit(X_train, y_train)\n",
        "\n",
        "# 5. 予測モデルの評価\n",
        "y_pred = model.predict(X_test)\n",
        "\n",
        "# accuracy_scoreを使って正解率を算出\n",
        "from sklearn.metrics import accuracy_score\n",
        "print(\"正解率（accuracy_score）:\", accuracy_score(y_test, y_pred))\n",
        "\n",
        "# scoreメソッドでも正解率を出力\n",
        "print(\"正解率（model.score）:\", model.score(X_test, y_test))\n",
        "\n",
        "# 6. 予測（ダミーデータを使って）\n",
        "import numpy as np\n",
        "X_real = np.array([\n",
        "    [13, 1.6, 2.2, 16, 118, 2.6, 2.9, 0.21, 1.6, 5.8, 0.92, 3.2, 1011],\n",
        "    [12, 2.8, 2.2, 18, 100, 2.5, 2.3, 0.25, 2.0, 2.2, 1.15, 3.3, 1000],\n",
        "    [14, 4.1, 2.7, 24, 101, 1.6, 0.7, 0.53, 1.4, 9.4, 0.61, 1.6, 560]])\n",
        "\n",
        "# 予測\n",
        "predictions = model.predict(X_real)\n",
        "print(\"予測結果:\", predictions)\n"
      ],
      "metadata": {
        "colab": {
          "base_uri": "https://localhost:8080/"
        },
        "id": "HHU4iBl4GTc1",
        "outputId": "a017a5b9-f16b-4751-e74c-331c56c87a28"
      },
      "execution_count": 2,
      "outputs": [
        {
          "output_type": "stream",
          "name": "stdout",
          "text": [
            "(178, 13) (124, 13) (54, 13) (178,) (124,) (54,)\n",
            "正解率（accuracy_score）: 0.9629629629629629\n",
            "正解率（model.score）: 0.9629629629629629\n",
            "予測結果: [0 1 2]\n"
          ]
        }
      ]
    }
  ]
}